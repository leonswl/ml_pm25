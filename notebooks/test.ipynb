{
 "cells": [
  {
   "cell_type": "code",
   "execution_count": 4,
   "metadata": {},
   "outputs": [],
   "source": [
    "from typing import Tuple\n",
    "\n",
    "import hopsworks\n",
    "import pandas as pd\n",
    "\n",
    "from settings import SETTINGS\n"
   ]
  },
  {
   "cell_type": "code",
   "execution_count": 6,
   "metadata": {},
   "outputs": [],
   "source": [
    "def load_dataset_from_feature_store(\n",
    "    feature_view_version: int, \n",
    "    training_dataset_version: int, \n",
    "    fh: int = 24\n",
    ") -> Tuple[pd.DataFrame, pd.DataFrame, pd.DataFrame, pd.DataFrame]:\n",
    "    \"\"\"Load features from feature store.\n",
    "\n",
    "    Args:\n",
    "        feature_view_version (int): feature store feature view version to load data from\n",
    "        training_dataset_version (int): feature store training dataset version to load data from\n",
    "        fh (int, optional): Forecast horizon. Defaults to 24.\n",
    "\n",
    "    Returns:\n",
    "        Train and test splits loaded from the feature store as pandas dataframes.\n",
    "    \"\"\"\n",
    "\n",
    "    project = hopsworks.login(\n",
    "        api_key_value=SETTINGS[\"FS_API_KEY\"], \n",
    "        project=SETTINGS[\"FS_PROJECT_NAME\"]\n",
    "    )\n",
    "    fs = project.get_feature_store()\n",
    "\n",
    "    feature_view = fs.get_feature_view(\n",
    "            name=\"pm25_singapore_view\", version=feature_view_version\n",
    "        )\n",
    "    data, _ = feature_view.get_training_data(\n",
    "        training_dataset_version=training_dataset_version\n",
    "    )\n",
    "\n",
    "    return data"
   ]
  },
  {
   "cell_type": "code",
   "execution_count": 7,
   "metadata": {},
   "outputs": [
    {
     "name": "stdout",
     "output_type": "stream",
     "text": [
      "Connected. Call `.close()` to terminate connection gracefully.\n",
      "\n",
      "Logged in to project, explore it here https://c.app.hopsworks.ai:443/p/284820\n",
      "Connected. Call `.close()` to terminate connection gracefully.\n"
     ]
    },
    {
     "name": "stderr",
     "output_type": "stream",
     "text": [
      "UserWarning: Could not establish connection to ArrowFlight Server. (Flight returned timeout error, with message: Deadline Exceeded) Will fall back to hive/spark for this session. If the error persists, you can disable using ArrowFlight by changing the cluster configuration (set 'enable_flyingduck'='false').\n"
     ]
    }
   ],
   "source": [
    "dataset = load_dataset_from_feature_store(\n",
    "    feature_view_version=1,\n",
    "    training_dataset_version=1\n",
    "    )"
   ]
  },
  {
   "cell_type": "code",
   "execution_count": 8,
   "metadata": {},
   "outputs": [
    {
     "data": {
      "text/html": [
       "<div>\n",
       "<style scoped>\n",
       "    .dataframe tbody tr th:only-of-type {\n",
       "        vertical-align: middle;\n",
       "    }\n",
       "\n",
       "    .dataframe tbody tr th {\n",
       "        vertical-align: top;\n",
       "    }\n",
       "\n",
       "    .dataframe thead th {\n",
       "        text-align: right;\n",
       "    }\n",
       "</style>\n",
       "<table border=\"1\" class=\"dataframe\">\n",
       "  <thead>\n",
       "    <tr style=\"text-align: right;\">\n",
       "      <th></th>\n",
       "      <th>timestamp</th>\n",
       "      <th>update_timestamp</th>\n",
       "      <th>reading_west</th>\n",
       "      <th>reading_east</th>\n",
       "      <th>reading_central</th>\n",
       "      <th>reading_south</th>\n",
       "      <th>reading_north</th>\n",
       "    </tr>\n",
       "  </thead>\n",
       "  <tbody>\n",
       "    <tr>\n",
       "      <th>0</th>\n",
       "      <td>2023-12-08T09:00:00.000Z</td>\n",
       "      <td>2023-12-08T09:03:52.000Z</td>\n",
       "      <td>9</td>\n",
       "      <td>7</td>\n",
       "      <td>2</td>\n",
       "      <td>3</td>\n",
       "      <td>3</td>\n",
       "    </tr>\n",
       "    <tr>\n",
       "      <th>1</th>\n",
       "      <td>2023-12-07T23:00:00.000Z</td>\n",
       "      <td>2023-12-07T23:03:53.000Z</td>\n",
       "      <td>4</td>\n",
       "      <td>5</td>\n",
       "      <td>6</td>\n",
       "      <td>5</td>\n",
       "      <td>4</td>\n",
       "    </tr>\n",
       "    <tr>\n",
       "      <th>2</th>\n",
       "      <td>2023-12-08T05:00:00.000Z</td>\n",
       "      <td>2023-12-08T05:03:52.000Z</td>\n",
       "      <td>6</td>\n",
       "      <td>7</td>\n",
       "      <td>5</td>\n",
       "      <td>4</td>\n",
       "      <td>5</td>\n",
       "    </tr>\n",
       "    <tr>\n",
       "      <th>3</th>\n",
       "      <td>2023-12-07T20:00:00.000Z</td>\n",
       "      <td>2023-12-07T20:03:52.000Z</td>\n",
       "      <td>4</td>\n",
       "      <td>5</td>\n",
       "      <td>7</td>\n",
       "      <td>8</td>\n",
       "      <td>5</td>\n",
       "    </tr>\n",
       "    <tr>\n",
       "      <th>4</th>\n",
       "      <td>2023-12-08T02:00:00.000Z</td>\n",
       "      <td>2023-12-08T02:03:54.000Z</td>\n",
       "      <td>6</td>\n",
       "      <td>12</td>\n",
       "      <td>12</td>\n",
       "      <td>15</td>\n",
       "      <td>8</td>\n",
       "    </tr>\n",
       "  </tbody>\n",
       "</table>\n",
       "</div>"
      ],
      "text/plain": [
       "                  timestamp          update_timestamp  reading_west  \\\n",
       "0  2023-12-08T09:00:00.000Z  2023-12-08T09:03:52.000Z             9   \n",
       "1  2023-12-07T23:00:00.000Z  2023-12-07T23:03:53.000Z             4   \n",
       "2  2023-12-08T05:00:00.000Z  2023-12-08T05:03:52.000Z             6   \n",
       "3  2023-12-07T20:00:00.000Z  2023-12-07T20:03:52.000Z             4   \n",
       "4  2023-12-08T02:00:00.000Z  2023-12-08T02:03:54.000Z             6   \n",
       "\n",
       "   reading_east  reading_central  reading_south  reading_north  \n",
       "0             7                2              3              3  \n",
       "1             5                6              5              4  \n",
       "2             7                5              4              5  \n",
       "3             5                7              8              5  \n",
       "4            12               12             15              8  "
      ]
     },
     "execution_count": 8,
     "metadata": {},
     "output_type": "execute_result"
    }
   ],
   "source": [
    "dataset.head()"
   ]
  }
 ],
 "metadata": {
  "kernelspec": {
   "display_name": ".venv",
   "language": "python",
   "name": "python3"
  },
  "language_info": {
   "codemirror_mode": {
    "name": "ipython",
    "version": 3
   },
   "file_extension": ".py",
   "mimetype": "text/x-python",
   "name": "python",
   "nbconvert_exporter": "python",
   "pygments_lexer": "ipython3",
   "version": "3.11.3"
  }
 },
 "nbformat": 4,
 "nbformat_minor": 2
}
