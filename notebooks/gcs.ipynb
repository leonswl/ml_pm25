{
 "cells": [
  {
   "cell_type": "markdown",
   "metadata": {},
   "source": [
    "# Google Cloud Storage artifacts\n",
    "\n",
    "- X.parquet\n",
    "- y.parquet\n",
    "- metrics_monitoring.parquet\n",
    "- predictions_monitoring.parquet\n",
    "- y_monitoring.parquet\n",
    "- predictions.parquet"
   ]
  },
  {
   "cell_type": "code",
   "execution_count": 2,
   "metadata": {},
   "outputs": [],
   "source": [
    "# import libraries\n",
    "\n",
    "from settings import SETTINGS"
   ]
  },
  {
   "cell_type": "code",
   "execution_count": 7,
   "metadata": {},
   "outputs": [],
   "source": [
    "from utility import get_bucket, read_blob_from"
   ]
  },
  {
   "cell_type": "code",
   "execution_count": 6,
   "metadata": {},
   "outputs": [],
   "source": [
    "bucket = get_bucket(json_credentials_path=\"credentials/temporal-wares-409805-feab35315c7e.json\")"
   ]
  },
  {
   "cell_type": "markdown",
   "metadata": {},
   "source": [
    "`X.parquet`"
   ]
  },
  {
   "cell_type": "code",
   "execution_count": 14,
   "metadata": {},
   "outputs": [
    {
     "data": {
      "text/html": [
       "<div>\n",
       "<style scoped>\n",
       "    .dataframe tbody tr th:only-of-type {\n",
       "        vertical-align: middle;\n",
       "    }\n",
       "\n",
       "    .dataframe tbody tr th {\n",
       "        vertical-align: top;\n",
       "    }\n",
       "\n",
       "    .dataframe thead th {\n",
       "        text-align: right;\n",
       "    }\n",
       "</style>\n",
       "<table border=\"1\" class=\"dataframe\">\n",
       "  <thead>\n",
       "    <tr style=\"text-align: right;\">\n",
       "      <th></th>\n",
       "      <th>update_timestamp</th>\n",
       "      <th>reading_west</th>\n",
       "      <th>reading_east</th>\n",
       "      <th>reading_central</th>\n",
       "      <th>reading_south</th>\n",
       "      <th>reading_north</th>\n",
       "    </tr>\n",
       "    <tr>\n",
       "      <th>timestamp</th>\n",
       "      <th></th>\n",
       "      <th></th>\n",
       "      <th></th>\n",
       "      <th></th>\n",
       "      <th></th>\n",
       "      <th></th>\n",
       "    </tr>\n",
       "  </thead>\n",
       "  <tbody>\n",
       "    <tr>\n",
       "      <th>2016-02-10 12:00</th>\n",
       "      <td>2016-03-03 13:37:03</td>\n",
       "      <td>6</td>\n",
       "      <td>8</td>\n",
       "      <td>8</td>\n",
       "      <td>9</td>\n",
       "      <td>10</td>\n",
       "    </tr>\n",
       "    <tr>\n",
       "      <th>2016-02-10 13:00</th>\n",
       "      <td>2016-03-03 13:37:03</td>\n",
       "      <td>9</td>\n",
       "      <td>11</td>\n",
       "      <td>6</td>\n",
       "      <td>11</td>\n",
       "      <td>7</td>\n",
       "    </tr>\n",
       "    <tr>\n",
       "      <th>2016-02-10 14:00</th>\n",
       "      <td>2016-03-03 13:37:03</td>\n",
       "      <td>6</td>\n",
       "      <td>8</td>\n",
       "      <td>6</td>\n",
       "      <td>4</td>\n",
       "      <td>6</td>\n",
       "    </tr>\n",
       "    <tr>\n",
       "      <th>2016-02-10 15:00</th>\n",
       "      <td>2016-03-03 13:37:03</td>\n",
       "      <td>5</td>\n",
       "      <td>5</td>\n",
       "      <td>4</td>\n",
       "      <td>5</td>\n",
       "      <td>6</td>\n",
       "    </tr>\n",
       "    <tr>\n",
       "      <th>2016-02-10 17:00</th>\n",
       "      <td>2016-02-11 04:16:18</td>\n",
       "      <td>5</td>\n",
       "      <td>7</td>\n",
       "      <td>3</td>\n",
       "      <td>6</td>\n",
       "      <td>7</td>\n",
       "    </tr>\n",
       "  </tbody>\n",
       "</table>\n",
       "</div>"
      ],
      "text/plain": [
       "                    update_timestamp  reading_west  reading_east  \\\n",
       "timestamp                                                          \n",
       "2016-02-10 12:00 2016-03-03 13:37:03             6             8   \n",
       "2016-02-10 13:00 2016-03-03 13:37:03             9            11   \n",
       "2016-02-10 14:00 2016-03-03 13:37:03             6             8   \n",
       "2016-02-10 15:00 2016-03-03 13:37:03             5             5   \n",
       "2016-02-10 17:00 2016-02-11 04:16:18             5             7   \n",
       "\n",
       "                  reading_central  reading_south  reading_north  \n",
       "timestamp                                                        \n",
       "2016-02-10 12:00                8              9             10  \n",
       "2016-02-10 13:00                6             11              7  \n",
       "2016-02-10 14:00                6              4              6  \n",
       "2016-02-10 15:00                4              5              6  \n",
       "2016-02-10 17:00                3              6              7  "
      ]
     },
     "execution_count": 14,
     "metadata": {},
     "output_type": "execute_result"
    }
   ],
   "source": [
    "X = read_blob_from(\n",
    "        bucket=bucket, blob_name=f\"X.parquet\"\n",
    "    )\n",
    "\n",
    "X.head()"
   ]
  },
  {
   "cell_type": "markdown",
   "metadata": {},
   "source": [
    "`y.parquet`"
   ]
  },
  {
   "cell_type": "code",
   "execution_count": 13,
   "metadata": {},
   "outputs": [
    {
     "data": {
      "text/html": [
       "<div>\n",
       "<style scoped>\n",
       "    .dataframe tbody tr th:only-of-type {\n",
       "        vertical-align: middle;\n",
       "    }\n",
       "\n",
       "    .dataframe tbody tr th {\n",
       "        vertical-align: top;\n",
       "    }\n",
       "\n",
       "    .dataframe thead th {\n",
       "        text-align: right;\n",
       "    }\n",
       "</style>\n",
       "<table border=\"1\" class=\"dataframe\">\n",
       "  <thead>\n",
       "    <tr style=\"text-align: right;\">\n",
       "      <th></th>\n",
       "      <th>reading_average</th>\n",
       "    </tr>\n",
       "    <tr>\n",
       "      <th>timestamp</th>\n",
       "      <th></th>\n",
       "    </tr>\n",
       "  </thead>\n",
       "  <tbody>\n",
       "    <tr>\n",
       "      <th>2016-02-10 12:00</th>\n",
       "      <td>9</td>\n",
       "    </tr>\n",
       "    <tr>\n",
       "      <th>2016-02-10 13:00</th>\n",
       "      <td>10</td>\n",
       "    </tr>\n",
       "    <tr>\n",
       "      <th>2016-02-10 14:00</th>\n",
       "      <td>7</td>\n",
       "    </tr>\n",
       "    <tr>\n",
       "      <th>2016-02-10 15:00</th>\n",
       "      <td>5</td>\n",
       "    </tr>\n",
       "    <tr>\n",
       "      <th>2016-02-10 17:00</th>\n",
       "      <td>6</td>\n",
       "    </tr>\n",
       "  </tbody>\n",
       "</table>\n",
       "</div>"
      ],
      "text/plain": [
       "                  reading_average\n",
       "timestamp                        \n",
       "2016-02-10 12:00                9\n",
       "2016-02-10 13:00               10\n",
       "2016-02-10 14:00                7\n",
       "2016-02-10 15:00                5\n",
       "2016-02-10 17:00                6"
      ]
     },
     "execution_count": 13,
     "metadata": {},
     "output_type": "execute_result"
    }
   ],
   "source": [
    "y = read_blob_from(\n",
    "        bucket=bucket, blob_name=f\"y.parquet\"\n",
    "    )\n",
    "\n",
    "y.head()"
   ]
  },
  {
   "cell_type": "markdown",
   "metadata": {},
   "source": [
    "`predictions_monitoring.parquet`"
   ]
  },
  {
   "cell_type": "code",
   "execution_count": 15,
   "metadata": {},
   "outputs": [
    {
     "data": {
      "text/html": [
       "<div>\n",
       "<style scoped>\n",
       "    .dataframe tbody tr th:only-of-type {\n",
       "        vertical-align: middle;\n",
       "    }\n",
       "\n",
       "    .dataframe tbody tr th {\n",
       "        vertical-align: top;\n",
       "    }\n",
       "\n",
       "    .dataframe thead th {\n",
       "        text-align: right;\n",
       "    }\n",
       "</style>\n",
       "<table border=\"1\" class=\"dataframe\">\n",
       "  <thead>\n",
       "    <tr style=\"text-align: right;\">\n",
       "      <th></th>\n",
       "      <th>reading_average</th>\n",
       "    </tr>\n",
       "  </thead>\n",
       "  <tbody>\n",
       "    <tr>\n",
       "      <th>2023-12-18 04:00</th>\n",
       "      <td>14.255052</td>\n",
       "    </tr>\n",
       "    <tr>\n",
       "      <th>2023-12-18 05:00</th>\n",
       "      <td>13.388559</td>\n",
       "    </tr>\n",
       "    <tr>\n",
       "      <th>2023-12-18 06:00</th>\n",
       "      <td>13.073943</td>\n",
       "    </tr>\n",
       "    <tr>\n",
       "      <th>2023-12-18 07:00</th>\n",
       "      <td>12.110138</td>\n",
       "    </tr>\n",
       "    <tr>\n",
       "      <th>2023-12-18 08:00</th>\n",
       "      <td>11.102704</td>\n",
       "    </tr>\n",
       "  </tbody>\n",
       "</table>\n",
       "</div>"
      ],
      "text/plain": [
       "                  reading_average\n",
       "2023-12-18 04:00        14.255052\n",
       "2023-12-18 05:00        13.388559\n",
       "2023-12-18 06:00        13.073943\n",
       "2023-12-18 07:00        12.110138\n",
       "2023-12-18 08:00        11.102704"
      ]
     },
     "execution_count": 15,
     "metadata": {},
     "output_type": "execute_result"
    }
   ],
   "source": [
    "cached_predictions = read_blob_from(\n",
    "        bucket=bucket, blob_name=f\"predictions_monitoring.parquet\"\n",
    "    )\n",
    "\n",
    "cached_predictions.head()"
   ]
  },
  {
   "cell_type": "markdown",
   "metadata": {},
   "source": [
    "`metrics_monitoring.parquet`"
   ]
  },
  {
   "cell_type": "code",
   "execution_count": 16,
   "metadata": {},
   "outputs": [
    {
     "data": {
      "text/html": [
       "<div>\n",
       "<style scoped>\n",
       "    .dataframe tbody tr th:only-of-type {\n",
       "        vertical-align: middle;\n",
       "    }\n",
       "\n",
       "    .dataframe tbody tr th {\n",
       "        vertical-align: top;\n",
       "    }\n",
       "\n",
       "    .dataframe thead th {\n",
       "        text-align: right;\n",
       "    }\n",
       "</style>\n",
       "<table border=\"1\" class=\"dataframe\">\n",
       "  <thead>\n",
       "    <tr style=\"text-align: right;\">\n",
       "      <th></th>\n",
       "      <th>MAPE</th>\n",
       "    </tr>\n",
       "  </thead>\n",
       "  <tbody>\n",
       "    <tr>\n",
       "      <th>0</th>\n",
       "      <td>0.350833</td>\n",
       "    </tr>\n",
       "  </tbody>\n",
       "</table>\n",
       "</div>"
      ],
      "text/plain": [
       "       MAPE\n",
       "0  0.350833"
      ]
     },
     "execution_count": 16,
     "metadata": {},
     "output_type": "execute_result"
    }
   ],
   "source": [
    "cached_metrics = read_blob_from(\n",
    "        bucket=bucket, blob_name=f\"metrics_monitoring.parquet\"\n",
    "    )\n",
    "\n",
    "cached_metrics.head()"
   ]
  },
  {
   "cell_type": "markdown",
   "metadata": {},
   "source": [
    "`y_monitoring.parquet`"
   ]
  },
  {
   "cell_type": "code",
   "execution_count": 17,
   "metadata": {},
   "outputs": [
    {
     "data": {
      "text/html": [
       "<div>\n",
       "<style scoped>\n",
       "    .dataframe tbody tr th:only-of-type {\n",
       "        vertical-align: middle;\n",
       "    }\n",
       "\n",
       "    .dataframe tbody tr th {\n",
       "        vertical-align: top;\n",
       "    }\n",
       "\n",
       "    .dataframe thead th {\n",
       "        text-align: right;\n",
       "    }\n",
       "</style>\n",
       "<table border=\"1\" class=\"dataframe\">\n",
       "  <thead>\n",
       "    <tr style=\"text-align: right;\">\n",
       "      <th></th>\n",
       "      <th>reading_average</th>\n",
       "    </tr>\n",
       "    <tr>\n",
       "      <th>timestamp</th>\n",
       "      <th></th>\n",
       "    </tr>\n",
       "  </thead>\n",
       "  <tbody>\n",
       "    <tr>\n",
       "      <th>2023-12-18 04:00</th>\n",
       "      <td>8</td>\n",
       "    </tr>\n",
       "    <tr>\n",
       "      <th>2023-12-18 05:00</th>\n",
       "      <td>10</td>\n",
       "    </tr>\n",
       "    <tr>\n",
       "      <th>2023-12-18 06:00</th>\n",
       "      <td>9</td>\n",
       "    </tr>\n",
       "    <tr>\n",
       "      <th>2023-12-18 07:00</th>\n",
       "      <td>11</td>\n",
       "    </tr>\n",
       "    <tr>\n",
       "      <th>2023-12-18 08:00</th>\n",
       "      <td>6</td>\n",
       "    </tr>\n",
       "  </tbody>\n",
       "</table>\n",
       "</div>"
      ],
      "text/plain": [
       "                  reading_average\n",
       "timestamp                        \n",
       "2023-12-18 04:00                8\n",
       "2023-12-18 05:00               10\n",
       "2023-12-18 06:00                9\n",
       "2023-12-18 07:00               11\n",
       "2023-12-18 08:00                6"
      ]
     },
     "execution_count": 17,
     "metadata": {},
     "output_type": "execute_result"
    }
   ],
   "source": [
    "y_monitoring = read_blob_from(\n",
    "        bucket=bucket, blob_name=f\"y_monitoring.parquet\"\n",
    "    )\n",
    "\n",
    "y_monitoring.head()"
   ]
  },
  {
   "cell_type": "markdown",
   "metadata": {},
   "source": [
    "`predictions.parquet`"
   ]
  },
  {
   "cell_type": "code",
   "execution_count": 18,
   "metadata": {},
   "outputs": [
    {
     "data": {
      "text/html": [
       "<div>\n",
       "<style scoped>\n",
       "    .dataframe tbody tr th:only-of-type {\n",
       "        vertical-align: middle;\n",
       "    }\n",
       "\n",
       "    .dataframe tbody tr th {\n",
       "        vertical-align: top;\n",
       "    }\n",
       "\n",
       "    .dataframe thead th {\n",
       "        text-align: right;\n",
       "    }\n",
       "</style>\n",
       "<table border=\"1\" class=\"dataframe\">\n",
       "  <thead>\n",
       "    <tr style=\"text-align: right;\">\n",
       "      <th></th>\n",
       "      <th>reading_average</th>\n",
       "    </tr>\n",
       "  </thead>\n",
       "  <tbody>\n",
       "    <tr>\n",
       "      <th>2023-12-18 04:00</th>\n",
       "      <td>14.255052</td>\n",
       "    </tr>\n",
       "    <tr>\n",
       "      <th>2023-12-18 05:00</th>\n",
       "      <td>13.388559</td>\n",
       "    </tr>\n",
       "    <tr>\n",
       "      <th>2023-12-18 06:00</th>\n",
       "      <td>13.073943</td>\n",
       "    </tr>\n",
       "    <tr>\n",
       "      <th>2023-12-18 07:00</th>\n",
       "      <td>12.110138</td>\n",
       "    </tr>\n",
       "    <tr>\n",
       "      <th>2023-12-18 08:00</th>\n",
       "      <td>11.102704</td>\n",
       "    </tr>\n",
       "  </tbody>\n",
       "</table>\n",
       "</div>"
      ],
      "text/plain": [
       "                  reading_average\n",
       "2023-12-18 04:00        14.255052\n",
       "2023-12-18 05:00        13.388559\n",
       "2023-12-18 06:00        13.073943\n",
       "2023-12-18 07:00        12.110138\n",
       "2023-12-18 08:00        11.102704"
      ]
     },
     "execution_count": 18,
     "metadata": {},
     "output_type": "execute_result"
    }
   ],
   "source": [
    "predictions = read_blob_from(\n",
    "        bucket=bucket, blob_name=f\"predictions.parquet\"\n",
    "    )\n",
    "\n",
    "predictions.head()"
   ]
  }
 ],
 "metadata": {
  "kernelspec": {
   "display_name": ".venv",
   "language": "python",
   "name": "python3"
  },
  "language_info": {
   "codemirror_mode": {
    "name": "ipython",
    "version": 3
   },
   "file_extension": ".py",
   "mimetype": "text/x-python",
   "name": "python",
   "nbconvert_exporter": "python",
   "pygments_lexer": "ipython3",
   "version": "3.11.7"
  }
 },
 "nbformat": 4,
 "nbformat_minor": 2
}
